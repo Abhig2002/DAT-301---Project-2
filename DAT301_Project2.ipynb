{
 "cells": [
  {
   "cell_type": "markdown",
   "metadata": {},
   "source": [
    "# Team Members\n",
    "   Abhisekhar\n",
    "   Taylor\n",
    "   Ayan"
   ]
  },
  {
   "cell_type": "code",
   "execution_count": 3,
   "metadata": {},
   "outputs": [],
   "source": [
    "# Import libraries\n",
    "import pandas as pd\n"
   ]
  },
  {
   "cell_type": "code",
   "execution_count": 5,
   "metadata": {},
   "outputs": [
    {
     "name": "stdout",
     "output_type": "stream",
     "text": [
      "   RANK        CHAIN 2020 U.S. Sales ($000,000) YOY SALES CHANGE  \\\n",
      "0     1   McDonald's                    $40,517            0.30%   \n",
      "1     2    Starbucks                    $18,485          -13.50%   \n",
      "2     3  Chick-fil-A                    $13,745           13.00%   \n",
      "3     4    Taco Bell                    $11,294            0.00%   \n",
      "4     5      Wendy's                    $10,231            4.80%   \n",
      "\n",
      "  2020 U.S. UNITS YOY UNIT CHANGE        SEGMENT MENU CATEGORY  \n",
      "0          13,682          -1.20%  Quick Service        Burger  \n",
      "1          15,337           1.90%  Quick Service   Coffee Café  \n",
      "2           2,659           6.70%  Quick Service       Chicken  \n",
      "3           6,799           0.50%  Quick Service       Mexican  \n",
      "4           5,881           0.50%  Quick Service        Burger  \n"
     ]
    }
   ],
   "source": [
    "# read csv file\n",
    "\n",
    "# Read the CSV file into a DataFrame\n",
    "df = pd.read_csv('Top100Chains.csv')\n",
    "\n",
    "# Now you can work with the DataFrame\n",
    "# For example, you can display the first few rows\n",
    "print(df.head())\n"
   ]
  },
  {
   "cell_type": "code",
   "execution_count": null,
   "metadata": {},
   "outputs": [],
   "source": []
  }
 ],
 "metadata": {
  "kernelspec": {
   "display_name": "Python 3 (ipykernel)",
   "language": "python",
   "name": "python3"
  },
  "language_info": {
   "codemirror_mode": {
    "name": "ipython",
    "version": 3
   },
   "file_extension": ".py",
   "mimetype": "text/x-python",
   "name": "python",
   "nbconvert_exporter": "python",
   "pygments_lexer": "ipython3",
   "version": "3.11.7"
  }
 },
 "nbformat": 4,
 "nbformat_minor": 4
}
