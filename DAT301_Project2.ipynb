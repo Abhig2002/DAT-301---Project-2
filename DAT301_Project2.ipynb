{
 "cells": [
  {
   "cell_type": "markdown",
   "metadata": {},
   "source": [
    "# Team Members\n",
    "   Abhisekhar Bharadwaj Gandavarapu <br>\n",
    "   Taylor Fisher<br>\n",
    "   Ayan Gautam<br>"
   ]
  },
  {
   "cell_type": "markdown",
   "metadata": {},
   "source": [
    "## Import Libraries and Read CSV File"
   ]
  },
  {
   "cell_type": "code",
   "execution_count": 2,
   "metadata": {},
   "outputs": [
    {
     "name": "stdout",
     "output_type": "stream",
     "text": [
      "   Transaction ID  Date of Travel   Company        City  \\\n",
      "0        10000011           42377  Pink Cab  ATLANTA GA   \n",
      "1        10000012           42375  Pink Cab  ATLANTA GA   \n",
      "2        10000013           42371  Pink Cab  ATLANTA GA   \n",
      "3        10000014           42376  Pink Cab  ATLANTA GA   \n",
      "4        10000015           42372  Pink Cab  ATLANTA GA   \n",
      "\n",
      "   Distance Travelled(KM)  Price Charged  Cost of Trip  \n",
      "0                   30.45         370.95       313.635  \n",
      "1                   28.62         358.52       334.854  \n",
      "2                    9.04         125.20        97.632  \n",
      "3                   33.17         377.40       351.602  \n",
      "4                    8.73         114.62        97.776  \n",
      "   Customer ID Gender  Age  Income (USD/Month)\n",
      "0        29290   Male   28               10813\n",
      "1        27703   Male   27                9237\n",
      "2        28712   Male   53               11242\n",
      "3        28020   Male   23               23327\n",
      "4        27182   Male   33                8536\n",
      "             City   Population      Users\n",
      "0     NEW YORK NY   8,405,837    302,149 \n",
      "1      CHICAGO IL   1,955,130    164,468 \n",
      "2  LOS ANGELES CA   1,595,037    144,132 \n",
      "3        MIAMI FL   1,339,155     17,675 \n",
      "4  SILICON VALLEY   1,177,609     27,247 \n",
      "   Transaction ID  Customer ID Payment_Mode\n",
      "0        10000011        29290         Card\n",
      "1        10000012        27703         Card\n",
      "2        10000013        28712         Cash\n",
      "3        10000014        28020         Cash\n",
      "4        10000015        27182         Card\n"
     ]
    }
   ],
   "source": [
    "# Import libraries\n",
    "\n",
    "import pandas as pd\n",
    "\n",
    "# read csv file\n",
    "taxi_data = pd.read_csv('Taxi_Data.csv')\n",
    "customer_data = pd.read_csv('Customer_ID.csv')\n",
    "city_data = pd.read_csv('City.csv')\n",
    "transaction_data = pd.read_csv('Transaction_ID.csv')\n",
    "\n",
    "print(taxi_data.head())\n",
    "print(customer_data.head())\n",
    "print(city_data.head())\n",
    "print(transaction_data.head())"
   ]
  },
  {
   "cell_type": "markdown",
   "metadata": {},
   "source": [
    "## Taylor's Section"
   ]
  },
  {
   "cell_type": "code",
   "execution_count": null,
   "metadata": {},
   "outputs": [],
   "source": []
  },
  {
   "cell_type": "markdown",
   "metadata": {},
   "source": [
    "## Abhi's Section"
   ]
  },
  {
   "cell_type": "code",
   "execution_count": null,
   "metadata": {},
   "outputs": [],
   "source": []
  },
  {
   "cell_type": "markdown",
   "metadata": {},
   "source": [
    "## Ayan's Section"
   ]
  },
  {
   "cell_type": "code",
   "execution_count": null,
   "metadata": {},
   "outputs": [],
   "source": []
  }
 ],
 "metadata": {
  "kernelspec": {
   "display_name": "Python 3 (ipykernel)",
   "language": "python",
   "name": "python3"
  },
  "language_info": {
   "codemirror_mode": {
    "name": "ipython",
    "version": 3
   },
   "file_extension": ".py",
   "mimetype": "text/x-python",
   "name": "python",
   "nbconvert_exporter": "python",
   "pygments_lexer": "ipython3",
   "version": "3.11.7"
  }
 },
 "nbformat": 4,
 "nbformat_minor": 4
}
