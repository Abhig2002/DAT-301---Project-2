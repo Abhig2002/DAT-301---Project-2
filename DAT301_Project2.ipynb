{
 "cells": [
  {
   "cell_type": "markdown",
   "metadata": {},
   "source": [
    "# Team Members\n",
    "   Abhisekhar <br>\n",
    "   Taylor <br>\n",
    "   Ayan <br>"
   ]
  },
  {
   "cell_type": "markdown",
   "metadata": {},
   "source": [
    "## Import Libraries and Read CSV File"
   ]
  },
  {
   "cell_type": "code",
   "execution_count": 2,
   "metadata": {},
   "outputs": [
    {
     "name": "stdout",
     "output_type": "stream",
     "text": [
      "   RANK        CHAIN 2020 U.S. Sales ($000,000) YOY SALES CHANGE  \\\n",
      "0     1   McDonald's                    $40,517            0.30%   \n",
      "1     2    Starbucks                    $18,485          -13.50%   \n",
      "2     3  Chick-fil-A                    $13,745           13.00%   \n",
      "3     4    Taco Bell                    $11,294            0.00%   \n",
      "4     5      Wendy's                    $10,231            4.80%   \n",
      "\n",
      "  2020 U.S. UNITS YOY UNIT CHANGE        SEGMENT MENU CATEGORY  \n",
      "0          13,682          -1.20%  Quick Service        Burger  \n",
      "1          15,337           1.90%  Quick Service   Coffee Café  \n",
      "2           2,659           6.70%  Quick Service       Chicken  \n",
      "3           6,799           0.50%  Quick Service       Mexican  \n",
      "4           5,881           0.50%  Quick Service        Burger  \n"
     ]
    }
   ],
   "source": [
    "# Import libraries\n",
    "\n",
    "import pandas as pd\n",
    "\n",
    "# read csv file\n",
    "df = pd.read_csv('Top100Chains.csv')\n",
    "\n",
    "print(df.head())"
   ]
  },
  {
   "cell_type": "markdown",
   "metadata": {},
   "source": [
    "## What are the top 10 chains with the highest ranking?"
   ]
  },
  {
   "cell_type": "code",
   "execution_count": null,
   "metadata": {},
   "outputs": [],
   "source": []
  },
  {
   "cell_type": "markdown",
   "metadata": {},
   "source": [
    "## Top lowest ranking chains?"
   ]
  },
  {
   "cell_type": "code",
   "execution_count": null,
   "metadata": {},
   "outputs": [],
   "source": []
  },
  {
   "cell_type": "markdown",
   "metadata": {},
   "source": [
    "## Is there a correlation between the chain’s ranking and their average sales and YOY?"
   ]
  },
  {
   "cell_type": "code",
   "execution_count": null,
   "metadata": {},
   "outputs": [],
   "source": []
  },
  {
   "cell_type": "markdown",
   "metadata": {},
   "source": [
    "## What is the distribution of sales among different segments (Quick Service, Fast Casual, Casual Dining, etc.)?"
   ]
  },
  {
   "cell_type": "code",
   "execution_count": null,
   "metadata": {},
   "outputs": [],
   "source": []
  },
  {
   "cell_type": "markdown",
   "metadata": {},
   "source": [
    "## Which menu category (Burger, Chicken, Pizza, etc.) has the highest average sales per unit?"
   ]
  },
  {
   "cell_type": "code",
   "execution_count": null,
   "metadata": {},
   "outputs": [],
   "source": []
  },
  {
   "cell_type": "markdown",
   "metadata": {},
   "source": [
    "## How did the sales and units change year-over-year for the top 10 restaurants?"
   ]
  },
  {
   "cell_type": "code",
   "execution_count": null,
   "metadata": {},
   "outputs": [],
   "source": []
  }
 ],
 "metadata": {
  "kernelspec": {
   "display_name": "Python 3 (ipykernel)",
   "language": "python",
   "name": "python3"
  },
  "language_info": {
   "codemirror_mode": {
    "name": "ipython",
    "version": 3
   },
   "file_extension": ".py",
   "mimetype": "text/x-python",
   "name": "python",
   "nbconvert_exporter": "python",
   "pygments_lexer": "ipython3",
   "version": "3.11.7"
  }
 },
 "nbformat": 4,
 "nbformat_minor": 4
}
